{
 "cells": [
  {
   "cell_type": "markdown",
   "metadata": {},
   "source": [
    "# Chapter 08: Tree"
   ]
  },
  {
   "cell_type": "markdown",
   "metadata": {},
   "source": [
    "## 8.1 General Trees"
   ]
  },
  {
   "cell_type": "markdown",
   "metadata": {},
   "source": [
    "### 8.1.1 Tree Definitions and Properties"
   ]
  },
  {
   "cell_type": "markdown",
   "metadata": {},
   "source": [
    "A **tree** is an abstract data type that stores elements hierarchcially."
   ]
  },
  {
   "cell_type": "markdown",
   "metadata": {},
   "source": [
    "##### Formal Tree Definition"
   ]
  },
  {
   "cell_type": "markdown",
   "metadata": {},
   "source": [
    "Formally, we define **tree** $T$ as a set of **nodes** storing elements such that the nodes have a **parent-child** relationship that satisfies the following properties:\n",
    "\n",
    "* If $T$ is nonempty, it has a special node, called the **root** of $T$, that has no parent.\n",
    "* Each $v$ of $T$ different from the root has a unique **parent** node $w$; every node with parent $w$ is a **child** of $w$."
   ]
  },
  {
   "cell_type": "markdown",
   "metadata": {},
   "source": [
    "##### Other Node Relationships"
   ]
  },
  {
   "cell_type": "markdown",
   "metadata": {},
   "source": [
    "Two nodes that are children of the same parent are **siblings**. A node $v$ is **external** if $v$ has no children. A node $v$ is **internal** if it has one or more children. External nodes are also known as **leaves**."
   ]
  },
  {
   "cell_type": "markdown",
   "metadata": {},
   "source": [
    "##### Ordered Trees"
   ]
  },
  {
   "cell_type": "markdown",
   "metadata": {},
   "source": [
    "A tree is **ordered** if there is a meaningful linear order among the children of each nodes; that is, we purposefully identify the children of a node as being the first, second, third, and so on."
   ]
  },
  {
   "cell_type": "markdown",
   "metadata": {},
   "source": [
    "### 8.1.2 The Tree Abstract Data Type"
   ]
  },
  {
   "cell_type": "markdown",
   "metadata": {},
   "source": [
    "We define a tree ADT using the concept of a **position** as an abstraction for a node of a tree. An element is stored at each position, and positions satisfy parent-child relationships that define the tree structure. A position object for a tree supports the method:"
   ]
  },
  {
   "cell_type": "markdown",
   "metadata": {},
   "source": [
    "* `p.element()`: Return the element stored at position `p`.\n",
    "* `T.root()`: Return the position of the root of tree `T`, or `None` if `T`\n",
    "* `T.is_root(p)`: Return `True` if position `p`is the root of Tree `T`.\n",
    "* `T.parent(p)`: Return the position of the parent of position `p` or `None` if `p` is the root of `T`.\n",
    "* `T.num_children(p)`: Return the number of children of position `p`\n",
    "* `T.children(p)`: Generate an iteration of the children of position `p`.\n",
    "* `T.is_leaf(p)`: Return `True` if position `p` does not have any children.\n",
    "* `len(T)`: Return the number of positions (and hence elements) that are contained in tree `T`.\n",
    "* `T.is_empty()`: Return `True` if tree `T` does not contain any positions.\n",
    "* `T.positions()`: Generate an iteration of all positions of tree `T`.\n",
    "* `iter(T)`: Generate an iteration of all elements stored within tree `T`."
   ]
  },
  {
   "cell_type": "code",
   "execution_count": null,
   "metadata": {},
   "outputs": [],
   "source": []
  }
 ],
 "metadata": {
  "kernelspec": {
   "display_name": "Python 3",
   "language": "python",
   "name": "python3"
  },
  "language_info": {
   "codemirror_mode": {
    "name": "ipython",
    "version": 3
   },
   "file_extension": ".py",
   "mimetype": "text/x-python",
   "name": "python",
   "nbconvert_exporter": "python",
   "pygments_lexer": "ipython3",
   "version": "3.6.8"
  }
 },
 "nbformat": 4,
 "nbformat_minor": 2
}
