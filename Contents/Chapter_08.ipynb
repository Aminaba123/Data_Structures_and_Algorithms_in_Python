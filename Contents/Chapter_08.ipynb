{
 "cells": [
  {
   "cell_type": "markdown",
   "metadata": {},
   "source": [
    "# Chapter 08: Tree"
   ]
  },
  {
   "cell_type": "markdown",
   "metadata": {},
   "source": [
    "## 8.1 General Trees"
   ]
  },
  {
   "cell_type": "markdown",
   "metadata": {},
   "source": [
    "### 8.1.1 Tree Definitions and Properties"
   ]
  },
  {
   "cell_type": "markdown",
   "metadata": {},
   "source": [
    "A **tree** is an abstract data type that stores elements hierarchcially."
   ]
  },
  {
   "cell_type": "markdown",
   "metadata": {},
   "source": [
    "##### Formal Tree Definition"
   ]
  },
  {
   "cell_type": "markdown",
   "metadata": {},
   "source": [
    "Formally, we define **tree** $T$ as a set of **nodes** storing elements such that the nodes have a **parent-child** relationship that satisfies the following properties:\n",
    "\n",
    "* If $T$ is nonempty, it has a special node, called the **root** of $T$, that has no parent.\n",
    "* Each $v$ of $T$ different from the root has a unique **parent** node $w$; every node with parent $w$ is a **child** of $w$."
   ]
  },
  {
   "cell_type": "markdown",
   "metadata": {},
   "source": [
    "##### Other Node Relationships"
   ]
  },
  {
   "cell_type": "markdown",
   "metadata": {},
   "source": [
    "Two nodes that are children of the same parent are **siblings**. A node $v$ is **external** if $v$ has no children. A node $v$ is **internal** if it has one or more children. External nodes are also known as **leaves**."
   ]
  },
  {
   "cell_type": "markdown",
   "metadata": {},
   "source": [
    "##### Ordered Trees"
   ]
  },
  {
   "cell_type": "markdown",
   "metadata": {},
   "source": [
    "A tree is **ordered** if there is a meaningful linear order among the children of each nodes; that is, we purposefully identify the children of a node as being the first, second, third, and so on."
   ]
  },
  {
   "cell_type": "markdown",
   "metadata": {},
   "source": [
    "### 8.1.2 The Tree Abstract Data Type"
   ]
  },
  {
   "cell_type": "markdown",
   "metadata": {},
   "source": [
    "We define a tree ADT using the concept of a **position** as an abstraction for a node of a tree. An element is stored at each position, and positions satisfy parent-child relationships that define the tree structure. A position object for a tree supports the method:"
   ]
  },
  {
   "cell_type": "markdown",
   "metadata": {},
   "source": [
    "* `p.element()`: Return the element stored at position `p`.\n",
    "* `T.root()`: Return the position of the root of tree `T`, or `None` if `T`\n",
    "* `T.is_root(p)`: Return `True` if position `p`is the root of Tree `T`.\n",
    "* `T.parent(p)`: Return the position of the parent of position `p` or `None` if `p` is the root of `T`.\n",
    "* `T.num_children(p)`: Return the number of children of position `p`\n",
    "* `T.children(p)`: Generate an iteration of the children of position `p`.\n",
    "* `T.is_leaf(p)`: Return `True` if position `p` does not have any children.\n",
    "* `len(T)`: Return the number of positions (and hence elements) that are contained in tree `T`.\n",
    "* `T.is_empty()`: Return `True` if tree `T` does not contain any positions.\n",
    "* `T.positions()`: Generate an iteration of all positions of tree `T`.\n",
    "* `iter(T)`: Generate an iteration of all elements stored within tree `T`."
   ]
  },
  {
   "cell_type": "code",
   "execution_count": 1,
   "metadata": {},
   "outputs": [],
   "source": [
    "from abc import ABC, abstractmethod\n",
    "\n",
    "class Tree(ABC):\n",
    "    \"\"\"Abstract base class representing a tree structure.\"\"\"\n",
    "    \n",
    "    class Position(ABC):\n",
    "        \"\"\"An abstraction representing the location of a single element.\"\"\"\n",
    "        \n",
    "        @abstractmethod\n",
    "        def element(self):\n",
    "            \"\"\"Return the element stored at this Position.\"\"\"\n",
    "            pass\n",
    "        \n",
    "        @abstractmethod\n",
    "        def __eq__(self, other):\n",
    "            \"\"\"Return True if other Position represents the same location.\"\"\"\n",
    "            pass\n",
    "        \n",
    "        def __ne__(self, other):\n",
    "            \"\"\"Return True if other does not represent the same location.\"\"\"\n",
    "            return not (self == other)\n",
    "\n",
    "    @abstractmethod\n",
    "    def root(self):\n",
    "        \"\"\"Return Position representing the tree's root (or None if empty).\"\"\"\n",
    "        pass\n",
    "    \n",
    "    @abstractmethod\n",
    "    def parent(self, p):\n",
    "        \"\"\"Return Position representing p's parent (or None if p is root).\"\"\"\n",
    "        pass\n",
    "    \n",
    "    @abstractmethod\n",
    "    def num_children(self, p):\n",
    "        \"\"\"Return the number of children that Position p has.\"\"\"\n",
    "        pass\n",
    "    \n",
    "    @abstractmethod\n",
    "    def children(self, p):\n",
    "        \"\"\"Generate an iteration of Positions representing p's children.\"\"\"\n",
    "        pass\n",
    "    \n",
    "    @abstractmethod\n",
    "    def __len__(self):\n",
    "        \"\"\"Return the total number of elements in the tree.\"\"\"\n",
    "        pass\n",
    "    \n",
    "    def is_root(self, p):\n",
    "        \"\"\"Return True if Position p represents the root of the tree.\"\"\"\n",
    "        return self.root() == p\n",
    "    \n",
    "    def is_leaf(self, p):\n",
    "        \"\"\"Return True if Position p does not have any children.\"\"\"\n",
    "        return self.num_children(p) == 0\n",
    "    \n",
    "    def is_empty(self):\n",
    "        \"\"\"Return True if the tree is empty.\"\"\"\n",
    "        return len(self) == 0\n",
    "    \n",
    "    def depth(self, p):\n",
    "        if self.is_root(p):\n",
    "            return 0\n",
    "        else:\n",
    "            return 1 + self.depth(self.parent(p))\n",
    "        \n",
    "    def _height2(self, p):\n",
    "        if self.is_leaf(p):\n",
    "            return 0\n",
    "        else:\n",
    "            return 1 + max(self._hegiht2(c) for c in self.children(p))\n",
    "    \n",
    "    def height(self, p=None):\n",
    "        if p is None:\n",
    "            p = self.root()\n",
    "        return self._height2(p)"
   ]
  },
  {
   "cell_type": "markdown",
   "metadata": {},
   "source": [
    "### 8.1.3 Computing Depth and Height"
   ]
  },
  {
   "cell_type": "markdown",
   "metadata": {},
   "source": [
    "##### Depth"
   ]
  },
  {
   "cell_type": "markdown",
   "metadata": {},
   "source": [
    "The **depth** of $p$ si the number of ancestor of $p$, excluding $p$ itself.\n",
    "\n",
    "The running time of `T.depth(p)` for position `p` is $O(d_p + 1)$, where $d_p$ denotes the depth of $p$ in the tree $T$, because the algorithm performas a constant-time recursive step for each ancestor of $p$. Thus algorithm `T.depth(p)` runs in $O(n)$ worst-case time, where $n$ is the total number of positions of $T$, because a position of $T$ may have depth $n-1$ if all nodes from a single branch."
   ]
  },
  {
   "cell_type": "code",
   "execution_count": 2,
   "metadata": {},
   "outputs": [],
   "source": [
    "def depth(self, p):\n",
    "    if self.is_root(p):\n",
    "        return 0\n",
    "    else:\n",
    "        return 1 + self.depth(self.parent(p))"
   ]
  },
  {
   "cell_type": "markdown",
   "metadata": {},
   "source": [
    "##### Height"
   ]
  },
  {
   "cell_type": "markdown",
   "metadata": {},
   "source": [
    "The **height** of a position $p$ in a tree $T$ is also defined recursively:\n",
    "\n",
    "* If $p$ is a fleaf, then the height of $p$ is 0\n",
    "* Otherwise, the height of $p$ is one more thatn the maximum of the heights of $p$'s children."
   ]
  },
  {
   "cell_type": "markdown",
   "metadata": {},
   "source": [
    "*The height of a nonempty tree $T$ is equal to the maximum of the dpeths of its leaf positions.*"
   ]
  },
  {
   "cell_type": "code",
   "execution_count": 3,
   "metadata": {},
   "outputs": [],
   "source": [
    "def _height1(self, p):\n",
    "    return max(self.depth(p) for p in self.positions() if self.is_leaf(p))"
   ]
  },
  {
   "cell_type": "markdown",
   "metadata": {},
   "source": [
    "However, algorithm `_hegiht1` is not very efficient. Because `_height1` calls algorithm `depth(p)` on each leaf of $T$, its running time is $O(n + \\sum_{p \\in L}(d_p + 1))$, where $L$ is the set of leaf positions of $T$. In the worst case, this will lead to $O(n^2)$."
   ]
  },
  {
   "cell_type": "markdown",
   "metadata": {},
   "source": [
    "It can be improved by:"
   ]
  },
  {
   "cell_type": "code",
   "execution_count": 4,
   "metadata": {},
   "outputs": [],
   "source": [
    "def _height2(self, p):\n",
    "    if self.is_leaf(p):\n",
    "        return 0\n",
    "    else:\n",
    "        return 1 + max(self._hegiht2(c) for c in self.children(p))"
   ]
  },
  {
   "cell_type": "markdown",
   "metadata": {},
   "source": [
    "It is important to understand why algorithm `height2` is more efficient than `height1`. The algorithm is recursive, and it progresses in a top-down fashion. If the method is initially called on the root of $T$, it will eventually be called once for each position of $T$. This is because the root eventually invokes the recursion on each of its children, which in turn invokes the recursion on each of their children, and so on."
   ]
  },
  {
   "cell_type": "markdown",
   "metadata": {},
   "source": [
    "We can determine the running time of the `height2` algorihtm by summing, over all the positions, the amount of time spent on the nonrecursive part of each call. In our implementation, there is a constant amound otf work per position, plus the overhead of computing the maximum over the iteration of children. Although we do not yet have a concrete implementation of `children(p)`, we assume that such an iteration is generated in $O(c_p + 1)$ time, where $c_p$ denotes the number of children\n",
    "of $p$. Algorithm `height2` spends $O(c_p + 1)$ time at each position $p$ to compute the maximum, and its overall running time is $O(\\sum_p (c_p + 1)) = O(n + \\sum_p c_p)$."
   ]
  },
  {
   "cell_type": "markdown",
   "metadata": {},
   "source": [
    "*Let $T$ be a tree with $n$ positions, and let $c_p$ denote the number of children of a position $p$ of $T$. Then, summing over the positions of $T$, $\\sum_p c_p = n-1$.*"
   ]
  },
  {
   "cell_type": "markdown",
   "metadata": {},
   "source": [
    "By this proposition, the running time of algorithm `height2` is $O(n)$, where $n$ is the number of positions of $T$."
   ]
  },
  {
   "cell_type": "markdown",
   "metadata": {},
   "source": [
    "## 8.2 Binary Trees"
   ]
  },
  {
   "cell_type": "markdown",
   "metadata": {},
   "source": [
    "A **binary tree** is an ordered tree with the following properties:\n",
    "\n",
    "1. Every node has at most two children.\n",
    "2. Each child node is alabeled as being either a left child or right child.\n",
    "3. A left child precedes a right child in the order of children of a node.\n",
    "\n",
    "The subtre rooted at a left or right child or an internal node $v$ is called a **left subtree** or **right subtree**. respectively, of $v$. A binary tree is **proper** if each node has either zero or two children. Some people also refer to such trees as being **full** binary trees. A binary tree that is not proper is **improper**."
   ]
  },
  {
   "cell_type": "markdown",
   "metadata": {},
   "source": [
    "### 8.2.1 The Binary Tree Abstract Data Type"
   ]
  },
  {
   "cell_type": "markdown",
   "metadata": {},
   "source": [
    "* `T.left(p)`: Return the position that represents the left child of `p`, or `None` if `p` has no left child.\n",
    "* `T.right(p)`: Return the position that represents the right child of `p` or `None` if `p` has no right child.\n",
    "* `T.sibling(p)`: Return the position that represents the sibling of `p`, or `None` if `p` has no sibling."
   ]
  },
  {
   "cell_type": "code",
   "execution_count": 7,
   "metadata": {},
   "outputs": [],
   "source": [
    "class BinaryTree(Tree):\n",
    "    \"\"\"Abstract base class representing a binary tree structure.\"\"\"\n",
    "    \n",
    "    @abstractmethod\n",
    "    def left(self, p):\n",
    "        \"\"\"Return a Position representing p's left child.\n",
    "        \n",
    "        Return None if p does not have a left child.\n",
    "        \"\"\"\n",
    "        pass\n",
    "    \n",
    "    @abstractmethod\n",
    "    def right(self, p):\n",
    "        \"\"\"Return a Position representing p's right child.\n",
    "        \n",
    "        Return None if p does not have a right child.\n",
    "        \"\"\"\n",
    "        pass\n",
    "    \n",
    "    def sibling(self, p):\n",
    "        \"\"\"Return a Position representing p's sibling (or None if no sibling).\"\"\"\n",
    "        parent = self.parent(p)\n",
    "        if parent is None:\n",
    "            return None\n",
    "        else:\n",
    "            if p == self.left(parent):\n",
    "                return self.right(parent)\n",
    "            else:\n",
    "                return self.left(parent)\n",
    "            \n",
    "    def children(self, p):\n",
    "        \"\"\"Generate an iteration of Positions representing p's children.\"\"\"\n",
    "        if self.left(p) is not None:\n",
    "            yield self.left(p)\n",
    "        \n",
    "        if self.right(p) is not None:\n",
    "            yield self.right(p)"
   ]
  },
  {
   "cell_type": "markdown",
   "metadata": {},
   "source": [
    "### 8.2.2 Properties of Binary Trees"
   ]
  },
  {
   "cell_type": "markdown",
   "metadata": {},
   "source": [
    "##### Proposition\n",
    "\n",
    "Let $T$ be a nonempty binary tree, and let $n$, $n_W$, $n_I$ and $h$ denote the number of nodes, umber of external nodes, number of internal nodes, and height of $T$, respectively.Then $T$ has the following properties:"
   ]
  },
  {
   "cell_type": "markdown",
   "metadata": {},
   "source": [
    "1. $h+1 \\leq n \\leq 2^{h+1} -1$\n",
    "2. $1 \\leq n_E \\leq 2^h$\n",
    "3. $h \\leq n_I \\leq 2^h - 1$\n",
    "4. $\\log(n+1) -1 \\leq h \\leq n - 1$"
   ]
  },
  {
   "cell_type": "markdown",
   "metadata": {},
   "source": [
    "Also, if $T$ is proper, then $T$ has the following properties:\n",
    "\n",
    "1. $2h + 1 \\leq n \\leq 2^{h+1} - 1$\n",
    "2. $h +1 \\leq n_E \\leq 2^h$\n",
    "3. $h \\leq n_I \\leq 2^h -1$\n",
    "4. $\\log(n+1) -1 \\leq h \\leq (n-1)/2$"
   ]
  },
  {
   "cell_type": "markdown",
   "metadata": {},
   "source": [
    "##### Proposition\n",
    "\n",
    "In a nonempty proper binary tree $T$, with $n_E$ external nodes and $n_I$ internal nodes, we have $n_E = n_I + 1$."
   ]
  },
  {
   "cell_type": "markdown",
   "metadata": {},
   "source": [
    "## 8.3 Implementing Trees"
   ]
  },
  {
   "cell_type": "code",
   "execution_count": null,
   "metadata": {},
   "outputs": [],
   "source": []
  }
 ],
 "metadata": {
  "kernelspec": {
   "display_name": "Python 3",
   "language": "python",
   "name": "python3"
  },
  "language_info": {
   "codemirror_mode": {
    "name": "ipython",
    "version": 3
   },
   "file_extension": ".py",
   "mimetype": "text/x-python",
   "name": "python",
   "nbconvert_exporter": "python",
   "pygments_lexer": "ipython3",
   "version": "3.6.8"
  }
 },
 "nbformat": 4,
 "nbformat_minor": 2
}
